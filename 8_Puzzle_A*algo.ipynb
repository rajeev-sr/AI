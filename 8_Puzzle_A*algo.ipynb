{
  "nbformat": 4,
  "nbformat_minor": 0,
  "metadata": {
    "colab": {
      "provenance": []
    },
    "kernelspec": {
      "name": "python3",
      "display_name": "Python 3"
    },
    "language_info": {
      "name": "python"
    }
  },
  "cells": [
    {
      "cell_type": "code",
      "source": [
        "import numpy as np\n",
        "import heapq\n",
        "import math"
      ],
      "metadata": {
        "id": "pxnLvZFgnijt"
      },
      "execution_count": 112,
      "outputs": []
    },
    {
      "cell_type": "code",
      "source": [
        "def h_manhatten(cur_s, end_s):\n",
        "    dis = 0\n",
        "    for i, x in np.ndenumerate(cur_s):\n",
        "        if x == 0:\n",
        "            continue\n",
        "        ind = np.where(end_s == x)\n",
        "        dis += abs(i[0] - ind[0][0]) + abs(i[1] - ind[1][0])\n",
        "    return dis"
      ],
      "metadata": {
        "id": "6qnCyCz0nlPr"
      },
      "execution_count": 113,
      "outputs": []
    },
    {
      "cell_type": "code",
      "source": [
        "def possible_moves(cur_s):\n",
        "    moves = []\n",
        "    zero_ind = np.where(cur_s == 0)\n",
        "    r = zero_ind[0][0]\n",
        "    c = zero_ind[1][0]\n",
        "    dr = [0, 0, -1, 1]\n",
        "    dc = [-1, 1, 0, 0]\n",
        "    move = ['Left', 'Right', 'Up', 'Down']\n",
        "    for i in range(4):\n",
        "        nr = r + dr[i]\n",
        "        nc = c + dc[i]\n",
        "        if 0 <= nr <= 2 and 0 <= nc <= 2:\n",
        "            new_state = cur_s.copy()\n",
        "            v1 = new_state[r][c]\n",
        "            v2 = new_state[nr][nc]\n",
        "            new_state[r][c] = v2\n",
        "            new_state[nr][nc] = v1\n",
        "            moves.append((new_state, move[i]))\n",
        "    return moves"
      ],
      "metadata": {
        "id": "sy49j53EnnWP"
      },
      "execution_count": 114,
      "outputs": []
    },
    {
      "cell_type": "code",
      "source": [
        "def path_track(came_from, current):\n",
        "    path = []\n",
        "    while current in came_from.keys():\n",
        "        prev, move = came_from[current]\n",
        "        path.append(move)\n",
        "        current = prev\n",
        "    path.reverse()\n",
        "    return path"
      ],
      "metadata": {
        "id": "bmINrsgeno6F"
      },
      "execution_count": 115,
      "outputs": []
    },
    {
      "cell_type": "code",
      "source": [
        "def is_solvable(state):\n",
        "    arr = [x for x in state if x != 0]\n",
        "    inv = 0\n",
        "    for i in range(len(arr)):\n",
        "        for j in range(i + 1, len(arr)):\n",
        "            if arr[i] > arr[j]:\n",
        "                inv += 1\n",
        "    return inv % 2 == 0"
      ],
      "metadata": {
        "id": "t_dtQK8onrad"
      },
      "execution_count": 116,
      "outputs": []
    },
    {
      "cell_type": "code",
      "source": [
        "def pretty_print(state):\n",
        "    for row in state:\n",
        "        print(' '.join(str(x) if x != 0 else '_' for x in row))\n",
        "    print()"
      ],
      "metadata": {
        "id": "z82E5xNIn9OB"
      },
      "execution_count": 117,
      "outputs": []
    },
    {
      "cell_type": "code",
      "source": [
        "# --- A* Search ---\n",
        "def a_star(start_s, end_s):\n",
        "    start_arr = np.array(start_s)\n",
        "    end_arr = np.array(end_s)\n",
        "\n",
        "    if not is_solvable(start_arr.flatten().tolist()):\n",
        "        raise ValueError(\"This puzzle configuration is not solvable.\")\n",
        "\n",
        "    start_key = tuple(start_arr.flatten())\n",
        "    end_key = tuple(end_arr.flatten())\n",
        "\n",
        "    g_score = {start_key: 0}\n",
        "    f_start = h_manhatten(start_arr, end_arr)\n",
        "    open_heap = [(f_start, 0, start_key)]\n",
        "    came_from = {}\n",
        "    closed_set = set()\n",
        "\n",
        "    tie = 1\n",
        "\n",
        "    while open_heap:\n",
        "        f, _, current_key = heapq.heappop(open_heap)\n",
        "        if current_key in closed_set:\n",
        "            continue\n",
        "\n",
        "        current_arr = np.array(current_key).reshape(3, 3)\n",
        "\n",
        "        if np.array_equal(current_arr, end_arr):\n",
        "            moves = path_track(came_from, current_key)\n",
        "            return moves\n",
        "\n",
        "        closed_set.add(current_key)\n",
        "\n",
        "        for nbr_arr, move in possible_moves(current_arr):\n",
        "            nbr_key = tuple(nbr_arr.flatten())\n",
        "            if nbr_key in closed_set:\n",
        "                continue\n",
        "\n",
        "            tentative_g = g_score[current_key] + 1\n",
        "            if tentative_g < g_score.get(nbr_key, math.inf):\n",
        "                g_score[nbr_key] = tentative_g\n",
        "                f_score = tentative_g + h_manhatten(nbr_arr, end_arr)\n",
        "                tie += 1\n",
        "                heapq.heappush(open_heap, (f_score, tie, nbr_key))\n",
        "                came_from[nbr_key] = (current_key, move)\n",
        "\n",
        "    raise RuntimeError(\"A* failed to find a solution.\")"
      ],
      "metadata": {
        "id": "RwTICuXynPFy"
      },
      "execution_count": 118,
      "outputs": []
    },
    {
      "cell_type": "code",
      "source": [
        "start_state = [\n",
        "        [1, 0, 2],\n",
        "        [3, 4, 6],\n",
        "        [7, 5, 8]\n",
        "]\n",
        "\n",
        "goal_state = [\n",
        "    [1, 2, 3],\n",
        "    [4, 5, 6],\n",
        "    [7, 8, 0]\n",
        "]\n",
        "\n",
        "print(\"Start state:\")\n",
        "pretty_print(start_state)\n",
        "print(\"Goal state:\")\n",
        "pretty_print(goal_state)\n",
        "\n",
        "try:\n",
        "    moves= a_star(start_state, goal_state)\n",
        "    print(f\"Solution found in {len(moves)} moves.\")\n",
        "    print(\"Moves sequence:\", moves)\n",
        "\n",
        "    cur = np.array(start_state)\n",
        "    for i, m in enumerate(moves, 1):\n",
        "        for nbr_arr, mv in possible_moves(cur):\n",
        "            if mv == m:\n",
        "                cur = nbr_arr\n",
        "                break\n",
        "        print(f\"After move {i}: {m}\")\n",
        "        pretty_print(cur.tolist())\n",
        "\n",
        "except ValueError as e:\n",
        "    print(e)"
      ],
      "metadata": {
        "colab": {
          "base_uri": "https://localhost:8080/"
        },
        "id": "gJcdoAiSoJ3A",
        "outputId": "be44558a-4236-4bb0-9f07-a8deb0f9ce52"
      },
      "execution_count": 119,
      "outputs": [
        {
          "output_type": "stream",
          "name": "stdout",
          "text": [
            "Start state:\n",
            "1 _ 2\n",
            "3 4 6\n",
            "7 5 8\n",
            "\n",
            "Goal state:\n",
            "1 2 3\n",
            "4 5 6\n",
            "7 8 _\n",
            "\n",
            "Solution found in 15 moves.\n",
            "Moves sequence: ['Right', 'Down', 'Left', 'Left', 'Up', 'Right', 'Down', 'Right', 'Up', 'Left', 'Left', 'Down', 'Right', 'Down', 'Right']\n",
            "After move 1: Right\n",
            "1 2 _\n",
            "3 4 6\n",
            "7 5 8\n",
            "\n",
            "After move 2: Down\n",
            "1 2 6\n",
            "3 4 _\n",
            "7 5 8\n",
            "\n",
            "After move 3: Left\n",
            "1 2 6\n",
            "3 _ 4\n",
            "7 5 8\n",
            "\n",
            "After move 4: Left\n",
            "1 2 6\n",
            "_ 3 4\n",
            "7 5 8\n",
            "\n",
            "After move 5: Up\n",
            "_ 2 6\n",
            "1 3 4\n",
            "7 5 8\n",
            "\n",
            "After move 6: Right\n",
            "2 _ 6\n",
            "1 3 4\n",
            "7 5 8\n",
            "\n",
            "After move 7: Down\n",
            "2 3 6\n",
            "1 _ 4\n",
            "7 5 8\n",
            "\n",
            "After move 8: Right\n",
            "2 3 6\n",
            "1 4 _\n",
            "7 5 8\n",
            "\n",
            "After move 9: Up\n",
            "2 3 _\n",
            "1 4 6\n",
            "7 5 8\n",
            "\n",
            "After move 10: Left\n",
            "2 _ 3\n",
            "1 4 6\n",
            "7 5 8\n",
            "\n",
            "After move 11: Left\n",
            "_ 2 3\n",
            "1 4 6\n",
            "7 5 8\n",
            "\n",
            "After move 12: Down\n",
            "1 2 3\n",
            "_ 4 6\n",
            "7 5 8\n",
            "\n",
            "After move 13: Right\n",
            "1 2 3\n",
            "4 _ 6\n",
            "7 5 8\n",
            "\n",
            "After move 14: Down\n",
            "1 2 3\n",
            "4 5 6\n",
            "7 _ 8\n",
            "\n",
            "After move 15: Right\n",
            "1 2 3\n",
            "4 5 6\n",
            "7 8 _\n",
            "\n"
          ]
        }
      ]
    }
  ]
}